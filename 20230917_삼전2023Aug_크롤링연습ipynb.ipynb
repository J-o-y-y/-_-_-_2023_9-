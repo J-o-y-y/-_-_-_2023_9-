{
  "nbformat": 4,
  "nbformat_minor": 0,
  "metadata": {
    "colab": {
      "provenance": [],
      "authorship_tag": "ABX9TyOUjJBvfCbM+WuTwa1ONw7y",
      "include_colab_link": true
    },
    "kernelspec": {
      "name": "python3",
      "display_name": "Python 3"
    },
    "language_info": {
      "name": "python"
    }
  },
  "cells": [
    {
      "cell_type": "markdown",
      "metadata": {
        "id": "view-in-github",
        "colab_type": "text"
      },
      "source": [
        "<a href=\"https://colab.research.google.com/github/J-o-y-y/data_visualization_2023_sep./blob/main/20230917_%EC%82%BC%EC%A0%842023Aug_%ED%81%AC%EB%A1%A4%EB%A7%81%EC%97%B0%EC%8A%B5ipynb.ipynb\" target=\"_parent\"><img src=\"https://colab.research.google.com/assets/colab-badge.svg\" alt=\"Open In Colab\"/></a>"
      ]
    },
    {
      "cell_type": "code",
      "execution_count": 2,
      "metadata": {
        "colab": {
          "base_uri": "https://localhost:8080/"
        },
        "id": "aomSfMb93DCn",
        "outputId": "8511f84a-9d55-44a2-e503-eca0ace388fc"
      },
      "outputs": [
        {
          "output_type": "stream",
          "name": "stdout",
          "text": [
            "['2023.08.31', '66,900', '\\n\\n\\t\\t\\t\\t200\\n\\t\\t\\t\\t\\n', '67,100', '67,200', '66,400', '15,964,630']\n",
            "['2023.08.30', '67,100', '\\n\\n\\t\\t\\t\\t300\\n\\t\\t\\t\\t\\n', '67,300', '67,700', '67,100', '9,181,223']\n",
            "['2023.08.29', '66,800', '\\n0\\n', '66,900', '67,200', '66,600', '9,114,352']\n",
            "['2023.08.28', '66,800', '\\n\\n\\t\\t\\t\\t300\\n\\t\\t\\t\\t\\n', '66,800', '67,000', '66,500', '5,824,628']\n",
            "['2023.08.25', '67,100', '\\n\\n\\t\\t\\t\\t1,100\\n\\t\\t\\t\\t\\n', '67,100', '67,400', '66,900', '7,032,462']\n",
            "['2023.08.24', '68,200', '\\n\\n\\t\\t\\t\\t1,100\\n\\t\\t\\t\\t\\n', '68,300', '68,700', '67,900', '15,044,463']\n",
            "['2023.08.23', '67,100', '\\n\\n\\t\\t\\t\\t500\\n\\t\\t\\t\\t\\n', '66,700', '67,100', '66,400', '9,549,352']\n",
            "['2023.08.22', '66,600', '\\n0\\n', '67,200', '67,700', '66,300', '10,500,242']\n",
            "['2023.08.21', '66,600', '\\n\\n\\t\\t\\t\\t300\\n\\t\\t\\t\\t\\n', '66,600', '67,100', '66,300', '9,720,067']\n",
            "['2023.08.18', '66,300', '\\n\\n\\t\\t\\t\\t400\\n\\t\\t\\t\\t\\n', '66,000', '66,700', '65,800', '11,745,006']\n",
            "['2023.08.17', '66,700', '\\n\\n\\t\\t\\t\\t300\\n\\t\\t\\t\\t\\n', '66,300', '66,800', '66,000', '10,778,652']\n",
            "['2023.08.16', '67,000', '\\n\\n\\t\\t\\t\\t300\\n\\t\\t\\t\\t\\n', '66,700', '67,100', '66,300', '13,174,578']\n",
            "['2023.08.14', '67,300', '\\n\\n\\t\\t\\t\\t200\\n\\t\\t\\t\\t\\n', '67,500', '67,900', '66,900', '9,352,343']\n",
            "['2023.08.11', '67,500', '\\n\\n\\t\\t\\t\\t500\\n\\t\\t\\t\\t\\n', '68,400', '68,800', '67,500', '9,781,038']\n",
            "['2023.08.10', '68,000', '\\n\\n\\t\\t\\t\\t900\\n\\t\\t\\t\\t\\n', '68,300', '68,500', '67,800', '10,227,311']\n",
            "['2023.08.09', '68,900', '\\n\\n\\t\\t\\t\\t1,300\\n\\t\\t\\t\\t\\n', '68,000', '69,600', '67,900', '17,259,673']\n",
            "['2023.08.08', '67,600', '\\n\\n\\t\\t\\t\\t900\\n\\t\\t\\t\\t\\n', '69,000', '69,100', '67,400', '14,664,709']\n",
            "['2023.08.07', '68,500', '\\n\\n\\t\\t\\t\\t200\\n\\t\\t\\t\\t\\n', '67,700', '69,200', '67,600', '10,968,505']\n",
            "['2023.08.04', '68,300', '\\n\\n\\t\\t\\t\\t500\\n\\t\\t\\t\\t\\n', '68,800', '69,100', '68,200', '12,360,193']\n",
            "['2023.08.03', '68,800', '\\n\\n\\t\\t\\t\\t1,100\\n\\t\\t\\t\\t\\n', '69,900', '70,200', '68,500', '20,087,090']\n",
            "['2023.08.02', '69,900', '\\n\\n\\t\\t\\t\\t1,200\\n\\t\\t\\t\\t\\n', '70,700', '71,000', '69,800', '13,835,020']\n",
            "['2023.08.01', '71,100', '\\n\\n\\t\\t\\t\\t1,300\\n\\t\\t\\t\\t\\n', '70,100', '71,200', '70,000', '12,299,254']\n"
          ]
        }
      ],
      "source": [
        "import requests\n",
        "import re\n",
        "from bs4 import BeautifulSoup\n",
        "import csv\n",
        "\n",
        "file = open(\"005930.csv\", mode=\"w\", encoding=\"utf-8\", newline=\"\")\n",
        "writer = csv.writer(file)\n",
        "\n",
        "headers = {\n",
        "    'User-Agent': 'Mozilla/5.0 (Windows NT 10.0; Win64; x64) AppleWebKit/537.36 (KHTML, like Gecko) Chrome/116.0.0.0 Safari/537.36'\n",
        "}\n",
        "\n",
        "writer.writerow(['날짜', '종가', '전일비', '시가', '고가', '저가', '거래량'])\n",
        "\n",
        "for page in range(2, 5):\n",
        "    params = {\n",
        "        'code': '005930',\n",
        "        'page': page\n",
        "    }\n",
        "    res = requests.get('https://finance.naver.com/item/sise_day.naver', headers=headers, params=params)\n",
        "    sams = BeautifulSoup(res.text, 'html.parser')\n",
        "\n",
        "    for tr in sams.select('table.type2 > tr'):\n",
        "        temp = []\n",
        "\n",
        "        if tr.attrs != {}:\n",
        "            if re.match('2023.08.+', tr.select('td')[0].text) is not None:\n",
        "                temp.append(tr.select('td')[0].text)\n",
        "                temp.append(tr.select('td')[1].text)\n",
        "                temp.append(tr.select('td')[2].text)\n",
        "                temp.append(tr.select('td')[3].text)\n",
        "                temp.append(tr.select('td')[4].text)\n",
        "                temp.append(tr.select('td')[5].text)\n",
        "                temp.append(tr.select('td')[6].text)\n",
        "\n",
        "                print(temp)\n",
        "                writer.writerow(temp)\n",
        "\n",
        "file.close()\n"
      ]
    }
  ]
}