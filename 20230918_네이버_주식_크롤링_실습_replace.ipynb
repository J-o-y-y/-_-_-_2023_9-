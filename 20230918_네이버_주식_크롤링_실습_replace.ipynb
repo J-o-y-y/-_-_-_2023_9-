{
  "nbformat": 4,
  "nbformat_minor": 0,
  "metadata": {
    "colab": {
      "provenance": [],
      "authorship_tag": "ABX9TyNyBmOQirA2Ly3AVUtKmmg2",
      "include_colab_link": true
    },
    "kernelspec": {
      "name": "python3",
      "display_name": "Python 3"
    },
    "language_info": {
      "name": "python"
    }
  },
  "cells": [
    {
      "cell_type": "markdown",
      "metadata": {
        "id": "view-in-github",
        "colab_type": "text"
      },
      "source": [
        "<a href=\"https://colab.research.google.com/github/J-o-y-y/data_visualization_2023_sep./blob/main/20230918_%EB%84%A4%EC%9D%B4%EB%B2%84_%EC%A3%BC%EC%8B%9D_%ED%81%AC%EB%A1%A4%EB%A7%81_%EC%8B%A4%EC%8A%B5_replace.ipynb\" target=\"_parent\"><img src=\"https://colab.research.google.com/assets/colab-badge.svg\" alt=\"Open In Colab\"/></a>"
      ]
    },
    {
      "cell_type": "code",
      "execution_count": 14,
      "metadata": {
        "id": "LXLpDdQrps7P"
      },
      "outputs": [],
      "source": [
        "import requests\n",
        "import csv\n",
        "from bs4 import BeautifulSoup\n",
        "\n",
        "file = open(\"네이버_주식_크롤링_실습.csv\", mode=\"w\", encoding=\"utf-8\", newline=\"\")\n",
        "writer = csv.writer(file)\n",
        "\n",
        "headers = {\n",
        "    'User-Agent': 'Mozilla/5.0 (Windows NT 10.0; Win64; x64) AppleWebKit/537.36 (KHTML, like Gecko) Chrome/116.0.0.0 Safari/537.36'\n",
        "}\n",
        "\n",
        "for page in range(2, 5):\n",
        "\n",
        "    params = {\n",
        "        'code':'005930',\n",
        "        'page':page\n",
        "    }\n",
        "\n",
        "    response = requests.get(f'https://finance.naver.com/item/sise_day.naver', params=params, headers=headers)\n",
        "    bs = BeautifulSoup(response.text, 'html.parser')\n",
        "\n",
        "    for tr in bs.select('table.type2 tr'):\n",
        "        if len(tr.select('td')) >= 7:\n",
        "            writer.writerow([tr.select('td')[0].text.replace('.','-'),\n",
        "                             tr.select('td')[1].text.replace(',','')])\n",
        "\n",
        "file.close()"
      ]
    }
  ]
}